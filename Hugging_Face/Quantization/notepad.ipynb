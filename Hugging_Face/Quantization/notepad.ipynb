{
 "cells": [
  {
   "cell_type": "code",
   "execution_count": 1,
   "metadata": {},
   "outputs": [],
   "source": [
    "#super _ create a class that inherits all methods and properties from another class\n"
   ]
  },
  {
   "cell_type": "code",
   "execution_count": 1,
   "metadata": {},
   "outputs": [
    {
     "name": "stdout",
     "output_type": "stream",
     "text": [
      "Hello and Welcome !\n"
     ]
    }
   ],
   "source": [
    "class Parent:\n",
    "    def __init__(self, txt):\n",
    "        self.message = txt\n",
    "\n",
    "    def printmessage(self):\n",
    "        print(self.message)\n",
    "\n",
    "class Child(Parent):\n",
    "    def __init__(self, txt):\n",
    "        super().__init__(txt)\n",
    "\n",
    "x = Child(\"Hello and Welcome !\")\n",
    "x.printmessage()"
   ]
  }
 ],
 "metadata": {
  "kernelspec": {
   "display_name": "Python 3.10.6 ('pytorch_env')",
   "language": "python",
   "name": "python3"
  },
  "language_info": {
   "codemirror_mode": {
    "name": "ipython",
    "version": 3
   },
   "file_extension": ".py",
   "mimetype": "text/x-python",
   "name": "python",
   "nbconvert_exporter": "python",
   "pygments_lexer": "ipython3",
   "version": "3.10.6"
  },
  "orig_nbformat": 4,
  "vscode": {
   "interpreter": {
    "hash": "dc128987b80414afb03073ef0ac1a5f16932121e6908c8d5ab86fd86be48a1ba"
   }
  }
 },
 "nbformat": 4,
 "nbformat_minor": 2
}
